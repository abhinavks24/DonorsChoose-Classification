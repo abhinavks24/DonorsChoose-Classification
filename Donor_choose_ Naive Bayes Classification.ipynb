{
 "cells": [
  {
   "cell_type": "markdown",
   "metadata": {},
   "source": [
    "<h1>Classification using Naive Bayes models </h1>"
   ]
  },
  {
   "cell_type": "code",
   "execution_count": 1,
   "metadata": {
    "id": "chpSjDaXm9KG"
   },
   "outputs": [],
   "source": [
    "from sklearn.model_selection import train_test_split\n",
    "import warnings\n",
    "warnings.filterwarnings(\"ignore\")\n",
    "\n",
    "import math\n",
    "import numpy as np\n",
    "import matplotlib.pyplot as plt\n",
    "from sklearn.feature_extraction.text import TfidfVectorizer\n",
    "from sklearn.feature_extraction.text import CountVectorizer\n",
    "\n",
    "from tqdm import tqdm\n",
    "from sklearn.preprocessing import OneHotEncoder\n",
    "from sklearn.preprocessing import Normalizer\n",
    "\n",
    "from scipy.sparse import hstack\n",
    "from sklearn.model_selection import GridSearchCV\n",
    "from sklearn.naive_bayes import MultinomialNB\n",
    "from sklearn.metrics import roc_auc_score\n",
    "from sklearn.metrics import roc_curve, auc\n",
    "\n",
    "from sklearn.metrics import confusion_matrix\n",
    "import seaborn as sns"
   ]
  },
  {
   "cell_type": "markdown",
   "metadata": {
    "id": "inzYCIaib3c3"
   },
   "source": [
    "<h1>2. Naive Bayes </h1>"
   ]
  },
  {
   "cell_type": "markdown",
   "metadata": {
    "id": "FYqCIxzFb3c5"
   },
   "source": [
    "## 1.1 Loading Data"
   ]
  },
  {
   "cell_type": "code",
   "execution_count": 2,
   "metadata": {
    "id": "dA1jknyqb3c_"
   },
   "outputs": [
    {
     "data": {
      "text/plain": [
       "(109248, 9)"
      ]
     },
     "execution_count": 2,
     "metadata": {},
     "output_type": "execute_result"
    }
   ],
   "source": [
    "import pandas as pd\n",
    "data = pd.read_csv('preprocessed_data.csv')\n",
    "data.shape"
   ]
  },
  {
   "cell_type": "code",
   "execution_count": 3,
   "metadata": {},
   "outputs": [
    {
     "data": {
      "text/html": [
       "<div>\n",
       "<style scoped>\n",
       "    .dataframe tbody tr th:only-of-type {\n",
       "        vertical-align: middle;\n",
       "    }\n",
       "\n",
       "    .dataframe tbody tr th {\n",
       "        vertical-align: top;\n",
       "    }\n",
       "\n",
       "    .dataframe thead th {\n",
       "        text-align: right;\n",
       "    }\n",
       "</style>\n",
       "<table border=\"1\" class=\"dataframe\">\n",
       "  <thead>\n",
       "    <tr style=\"text-align: right;\">\n",
       "      <th></th>\n",
       "      <th>school_state</th>\n",
       "      <th>teacher_prefix</th>\n",
       "      <th>project_grade_category</th>\n",
       "      <th>teacher_number_of_previously_posted_projects</th>\n",
       "      <th>project_is_approved</th>\n",
       "      <th>clean_categories</th>\n",
       "      <th>clean_subcategories</th>\n",
       "      <th>essay</th>\n",
       "      <th>price</th>\n",
       "    </tr>\n",
       "  </thead>\n",
       "  <tbody>\n",
       "    <tr>\n",
       "      <th>0</th>\n",
       "      <td>ca</td>\n",
       "      <td>mrs</td>\n",
       "      <td>grades_prek_2</td>\n",
       "      <td>53</td>\n",
       "      <td>1</td>\n",
       "      <td>math_science</td>\n",
       "      <td>appliedsciences health_lifescience</td>\n",
       "      <td>i fortunate enough use fairy tale stem kits cl...</td>\n",
       "      <td>725.05</td>\n",
       "    </tr>\n",
       "    <tr>\n",
       "      <th>1</th>\n",
       "      <td>ut</td>\n",
       "      <td>ms</td>\n",
       "      <td>grades_3_5</td>\n",
       "      <td>4</td>\n",
       "      <td>1</td>\n",
       "      <td>specialneeds</td>\n",
       "      <td>specialneeds</td>\n",
       "      <td>imagine 8 9 years old you third grade classroo...</td>\n",
       "      <td>213.03</td>\n",
       "    </tr>\n",
       "    <tr>\n",
       "      <th>2</th>\n",
       "      <td>ca</td>\n",
       "      <td>mrs</td>\n",
       "      <td>grades_prek_2</td>\n",
       "      <td>10</td>\n",
       "      <td>1</td>\n",
       "      <td>literacy_language</td>\n",
       "      <td>literacy</td>\n",
       "      <td>having class 24 students comes diverse learner...</td>\n",
       "      <td>329.00</td>\n",
       "    </tr>\n",
       "    <tr>\n",
       "      <th>3</th>\n",
       "      <td>ga</td>\n",
       "      <td>mrs</td>\n",
       "      <td>grades_prek_2</td>\n",
       "      <td>2</td>\n",
       "      <td>1</td>\n",
       "      <td>appliedlearning</td>\n",
       "      <td>earlydevelopment</td>\n",
       "      <td>i recently read article giving students choice...</td>\n",
       "      <td>481.04</td>\n",
       "    </tr>\n",
       "    <tr>\n",
       "      <th>4</th>\n",
       "      <td>wa</td>\n",
       "      <td>mrs</td>\n",
       "      <td>grades_3_5</td>\n",
       "      <td>2</td>\n",
       "      <td>1</td>\n",
       "      <td>literacy_language</td>\n",
       "      <td>literacy</td>\n",
       "      <td>my students crave challenge eat obstacles brea...</td>\n",
       "      <td>17.74</td>\n",
       "    </tr>\n",
       "  </tbody>\n",
       "</table>\n",
       "</div>"
      ],
      "text/plain": [
       "  school_state teacher_prefix project_grade_category  \\\n",
       "0           ca            mrs          grades_prek_2   \n",
       "1           ut             ms             grades_3_5   \n",
       "2           ca            mrs          grades_prek_2   \n",
       "3           ga            mrs          grades_prek_2   \n",
       "4           wa            mrs             grades_3_5   \n",
       "\n",
       "   teacher_number_of_previously_posted_projects  project_is_approved  \\\n",
       "0                                            53                    1   \n",
       "1                                             4                    1   \n",
       "2                                            10                    1   \n",
       "3                                             2                    1   \n",
       "4                                             2                    1   \n",
       "\n",
       "    clean_categories                 clean_subcategories  \\\n",
       "0       math_science  appliedsciences health_lifescience   \n",
       "1       specialneeds                        specialneeds   \n",
       "2  literacy_language                            literacy   \n",
       "3    appliedlearning                    earlydevelopment   \n",
       "4  literacy_language                            literacy   \n",
       "\n",
       "                                               essay   price  \n",
       "0  i fortunate enough use fairy tale stem kits cl...  725.05  \n",
       "1  imagine 8 9 years old you third grade classroo...  213.03  \n",
       "2  having class 24 students comes diverse learner...  329.00  \n",
       "3  i recently read article giving students choice...  481.04  \n",
       "4  my students crave challenge eat obstacles brea...   17.74  "
      ]
     },
     "execution_count": 3,
     "metadata": {},
     "output_type": "execute_result"
    }
   ],
   "source": [
    "df = data.head(85000) #df is the dataset which we will use further in the assignment\n",
    "df.head()"
   ]
  },
  {
   "cell_type": "code",
   "execution_count": 4,
   "metadata": {},
   "outputs": [],
   "source": [
    "feature_set = df.drop(columns=['project_is_approved'])"
   ]
  },
  {
   "cell_type": "code",
   "execution_count": 5,
   "metadata": {},
   "outputs": [],
   "source": [
    "target_set = df['project_is_approved']"
   ]
  },
  {
   "cell_type": "code",
   "execution_count": 6,
   "metadata": {},
   "outputs": [
    {
     "name": "stdout",
     "output_type": "stream",
     "text": [
      "(85000, 8)\n"
     ]
    },
    {
     "data": {
      "text/html": [
       "<div>\n",
       "<style scoped>\n",
       "    .dataframe tbody tr th:only-of-type {\n",
       "        vertical-align: middle;\n",
       "    }\n",
       "\n",
       "    .dataframe tbody tr th {\n",
       "        vertical-align: top;\n",
       "    }\n",
       "\n",
       "    .dataframe thead th {\n",
       "        text-align: right;\n",
       "    }\n",
       "</style>\n",
       "<table border=\"1\" class=\"dataframe\">\n",
       "  <thead>\n",
       "    <tr style=\"text-align: right;\">\n",
       "      <th></th>\n",
       "      <th>school_state</th>\n",
       "      <th>teacher_prefix</th>\n",
       "      <th>project_grade_category</th>\n",
       "      <th>teacher_number_of_previously_posted_projects</th>\n",
       "      <th>clean_categories</th>\n",
       "      <th>clean_subcategories</th>\n",
       "      <th>essay</th>\n",
       "      <th>price</th>\n",
       "    </tr>\n",
       "  </thead>\n",
       "  <tbody>\n",
       "    <tr>\n",
       "      <th>0</th>\n",
       "      <td>ca</td>\n",
       "      <td>mrs</td>\n",
       "      <td>grades_prek_2</td>\n",
       "      <td>53</td>\n",
       "      <td>math_science</td>\n",
       "      <td>appliedsciences health_lifescience</td>\n",
       "      <td>i fortunate enough use fairy tale stem kits cl...</td>\n",
       "      <td>725.05</td>\n",
       "    </tr>\n",
       "    <tr>\n",
       "      <th>1</th>\n",
       "      <td>ut</td>\n",
       "      <td>ms</td>\n",
       "      <td>grades_3_5</td>\n",
       "      <td>4</td>\n",
       "      <td>specialneeds</td>\n",
       "      <td>specialneeds</td>\n",
       "      <td>imagine 8 9 years old you third grade classroo...</td>\n",
       "      <td>213.03</td>\n",
       "    </tr>\n",
       "    <tr>\n",
       "      <th>2</th>\n",
       "      <td>ca</td>\n",
       "      <td>mrs</td>\n",
       "      <td>grades_prek_2</td>\n",
       "      <td>10</td>\n",
       "      <td>literacy_language</td>\n",
       "      <td>literacy</td>\n",
       "      <td>having class 24 students comes diverse learner...</td>\n",
       "      <td>329.00</td>\n",
       "    </tr>\n",
       "    <tr>\n",
       "      <th>3</th>\n",
       "      <td>ga</td>\n",
       "      <td>mrs</td>\n",
       "      <td>grades_prek_2</td>\n",
       "      <td>2</td>\n",
       "      <td>appliedlearning</td>\n",
       "      <td>earlydevelopment</td>\n",
       "      <td>i recently read article giving students choice...</td>\n",
       "      <td>481.04</td>\n",
       "    </tr>\n",
       "    <tr>\n",
       "      <th>4</th>\n",
       "      <td>wa</td>\n",
       "      <td>mrs</td>\n",
       "      <td>grades_3_5</td>\n",
       "      <td>2</td>\n",
       "      <td>literacy_language</td>\n",
       "      <td>literacy</td>\n",
       "      <td>my students crave challenge eat obstacles brea...</td>\n",
       "      <td>17.74</td>\n",
       "    </tr>\n",
       "  </tbody>\n",
       "</table>\n",
       "</div>"
      ],
      "text/plain": [
       "  school_state teacher_prefix project_grade_category  \\\n",
       "0           ca            mrs          grades_prek_2   \n",
       "1           ut             ms             grades_3_5   \n",
       "2           ca            mrs          grades_prek_2   \n",
       "3           ga            mrs          grades_prek_2   \n",
       "4           wa            mrs             grades_3_5   \n",
       "\n",
       "   teacher_number_of_previously_posted_projects   clean_categories  \\\n",
       "0                                            53       math_science   \n",
       "1                                             4       specialneeds   \n",
       "2                                            10  literacy_language   \n",
       "3                                             2    appliedlearning   \n",
       "4                                             2  literacy_language   \n",
       "\n",
       "                  clean_subcategories  \\\n",
       "0  appliedsciences health_lifescience   \n",
       "1                        specialneeds   \n",
       "2                            literacy   \n",
       "3                    earlydevelopment   \n",
       "4                            literacy   \n",
       "\n",
       "                                               essay   price  \n",
       "0  i fortunate enough use fairy tale stem kits cl...  725.05  \n",
       "1  imagine 8 9 years old you third grade classroo...  213.03  \n",
       "2  having class 24 students comes diverse learner...  329.00  \n",
       "3  i recently read article giving students choice...  481.04  \n",
       "4  my students crave challenge eat obstacles brea...   17.74  "
      ]
     },
     "execution_count": 6,
     "metadata": {},
     "output_type": "execute_result"
    }
   ],
   "source": [
    "print(feature_set.shape)\n",
    "feature_set.head()"
   ]
  },
  {
   "cell_type": "code",
   "execution_count": 7,
   "metadata": {},
   "outputs": [
    {
     "name": "stdout",
     "output_type": "stream",
     "text": [
      "(85000,)\n"
     ]
    },
    {
     "data": {
      "text/plain": [
       "0    1\n",
       "1    1\n",
       "2    1\n",
       "3    1\n",
       "4    1\n",
       "Name: project_is_approved, dtype: int64"
      ]
     },
     "execution_count": 7,
     "metadata": {},
     "output_type": "execute_result"
    }
   ],
   "source": [
    "print(target_set.shape)\n",
    "target_set.head()"
   ]
  },
  {
   "cell_type": "markdown",
   "metadata": {
    "id": "WtVV13Fyb3dH"
   },
   "source": [
    "<h2>1.2 Splitting data into Train and cross validation(or test): Stratified Sampling</h2>"
   ]
  },
  {
   "cell_type": "code",
   "execution_count": 8,
   "metadata": {},
   "outputs": [
    {
     "name": "stdout",
     "output_type": "stream",
     "text": [
      "(55250, 8)\n",
      "(29750, 8)\n",
      "(55250,)\n",
      "(29750,)\n"
     ]
    }
   ],
   "source": [
    "x_train,x_test,y_train,y_test = train_test_split(feature_set,target_set,test_size=0.35,stratify= target_set, random_state= 69)\n",
    "\n",
    "print(x_train.shape)\n",
    "print(x_test.shape)\n",
    "print(y_train.shape)\n",
    "print(y_test.shape)    "
   ]
  },
  {
   "cell_type": "markdown",
   "metadata": {
    "id": "EnZwVNULb3dO"
   },
   "source": [
    "<h2>1.3 Make Data Model Ready: encoding essay</h2>"
   ]
  },
  {
   "cell_type": "code",
   "execution_count": 10,
   "metadata": {},
   "outputs": [],
   "source": [
    "# Apply Bag of Words (BOW) vectorization on 'Preprocessed_Essay' \n",
    "cv = CountVectorizer(min_df=10)\n",
    "cv.fit(x_train['essay'].values)\n",
    "\n",
    "bow_train_essay = cv.transform(x_train['essay'].values)\n",
    "bow_test_essay = cv.transform(x_test['essay'].values)"
   ]
  },
  {
   "cell_type": "code",
   "execution_count": 11,
   "metadata": {},
   "outputs": [],
   "source": [
    "# Apply TF-IDF vectorization on 'Preprocessed_Essay' \n",
    "features_of_tfidf = []\n",
    "\n",
    "tfidf = TfidfVectorizer()\n",
    "tfidf.fit(x_train['essay'].values)\n",
    "\n",
    "tfidf_train_essay = tfidf.transform(x_train['essay'].values)\n",
    "tfidf_test_essay = tfidf.transform(x_test['essay'].values)\n",
    "\n",
    "features_of_tfidf.extend(tfidf.get_feature_names())"
   ]
  },
  {
   "cell_type": "markdown",
   "metadata": {
    "id": "bGy86kgHb3dX"
   },
   "source": [
    "<h2>1.4 Make Data Model Ready: encoding numerical, categorical features</h2>"
   ]
  },
  {
   "cell_type": "code",
   "execution_count": 12,
   "metadata": {
    "id": "EfXkofX1b3da"
   },
   "outputs": [],
   "source": [
    "# Apply One-Hot Encoding on the categorical features either using OneHotEncoder() (or) CountVectorizer(binary=True)\n",
    "\"\"\" school_state teacher_prefix project_grade_category clean_categories clean_subcategories \"\"\"\n",
    "\n",
    "one_hot = OneHotEncoder(handle_unknown=\"ignore\")\n",
    "\n",
    "one_hot.fit(x_train[['school_state']])\n",
    "\n",
    "school_state_train_ohe = one_hot.transform(x_train[['school_state']])\n",
    "school_state_test_ohe = one_hot.transform(x_test[['school_state']])\n",
    "\n",
    "one_hot.fit(x_train[['teacher_prefix']])\n",
    "\n",
    "teacher_prefix_train_ohe = one_hot.transform(x_train[['teacher_prefix']])\n",
    "teacher_prefix_test_ohe = one_hot.transform(x_test[['teacher_prefix']])\n",
    "\n",
    "one_hot.fit(x_train[['project_grade_category']])\n",
    "\n",
    "project_grade_category_train_ohe = one_hot.transform(x_train[['project_grade_category']])\n",
    "project_grade_category_test_ohe = one_hot.transform(x_test[['project_grade_category']])\n",
    "\n",
    "one_hot.fit(x_train[['clean_categories']])\n",
    "\n",
    "clean_categories_train_ohe = one_hot.transform(x_train[['clean_categories']])\n",
    "clean_categories_test_ohe = one_hot.transform(x_test[['clean_categories']])\n",
    "\n",
    "one_hot.fit(x_train[['clean_subcategories']])\n",
    "\n",
    "clean_subcategories_train_ohe = one_hot.transform(x_train[['clean_subcategories']])\n",
    "clean_subcategories_test_ohe = one_hot.transform(x_test[['clean_subcategories']])\n"
   ]
  },
  {
   "cell_type": "code",
   "execution_count": 13,
   "metadata": {},
   "outputs": [],
   "source": [
    "# Apply Normalization on the numerical features using Normalizer().\n",
    "\"\"\" teacher_number_of_previously_posted_projects price \"\"\"\n",
    "\n",
    "nv = Normalizer()\n",
    "\n",
    "nv.fit(x_train['teacher_number_of_previously_posted_projects'].values.reshape(-1,1))\n",
    "\n",
    "teacher_number_of_previously_posted_projects_train_nv = nv.transform(x_train['teacher_number_of_previously_posted_projects'].values.reshape(-1,1))\n",
    "teacher_number_of_previously_posted_projects_test_nv = nv.transform(x_test['teacher_number_of_previously_posted_projects'].values.reshape(-1,1))\n",
    "\n",
    "nv.fit(x_train['price'].values.reshape(-1,1))\n",
    "\n",
    "price_train_nv = nv.transform(x_train['price'].values.reshape(-1,1))\n",
    "price_test_nv = nv.transform(x_test['price'].values.reshape(-1,1))"
   ]
  },
  {
   "cell_type": "markdown",
   "metadata": {
    "id": "yYHPYadYb3dh"
   },
   "source": [
    "<h2>1.5 Appling NB on different kind of featurization as mentioned in the instructions</h2>\n",
    "\n",
    "<br>Apply NB on different kind of featurization as mentioned in the instructions\n",
    "<br> For Every model that you work on make sure you do the step 2 and step 3 of instrucations"
   ]
  },
  {
   "cell_type": "markdown",
   "metadata": {
    "id": "DNwqilFxb3di"
   },
   "source": [
    "#### Set 1"
   ]
  },
  {
   "cell_type": "code",
   "execution_count": 14,
   "metadata": {},
   "outputs": [],
   "source": [
    "# dataset with BOW vecotisation\n",
    "\n",
    "bow_train_set  = hstack((school_state_train_ohe, teacher_prefix_train_ohe, project_grade_category_train_ohe, clean_categories_train_ohe, clean_subcategories_train_ohe, teacher_number_of_previously_posted_projects_train_nv, price_train_nv, bow_train_essay)).tocsr()\n",
    "\n",
    "bow_test_set = hstack((school_state_test_ohe, teacher_prefix_test_ohe, project_grade_category_test_ohe, clean_categories_test_ohe, clean_subcategories_test_ohe, teacher_number_of_previously_posted_projects_test_nv, price_test_nv, bow_test_essay)).tocsr()"
   ]
  },
  {
   "cell_type": "code",
   "execution_count": 15,
   "metadata": {},
   "outputs": [
    {
     "name": "stdout",
     "output_type": "stream",
     "text": [
      "(55250, 13204)\n",
      "(29750, 13204)\n"
     ]
    }
   ],
   "source": [
    "print(bow_train_set.shape)\n",
    "print(bow_test_set.shape)"
   ]
  },
  {
   "cell_type": "code",
   "execution_count": 16,
   "metadata": {},
   "outputs": [
    {
     "data": {
      "text/plain": [
       "GridSearchCV(cv=10, estimator=MultinomialNB(class_prior=[0.5, 0.5]),\n",
       "             param_grid={'alpha': [1e-05, 5e-05, 0.0001, 0.0005, 0.001, 0.005,\n",
       "                                   0.01, 0.05, 0.1, 0.5, 1, 5, 10, 50]},\n",
       "             return_train_score=True, scoring='roc_auc')"
      ]
     },
     "execution_count": 16,
     "metadata": {},
     "output_type": "execute_result"
    }
   ],
   "source": [
    "# Perform Hyperparameter Tuning\n",
    "# Plot the training and the CV AUC scores, for different values of 'alpha', using a 2D line plot\n",
    "\n",
    "nb_bow_classifier = MultinomialNB(class_prior=[0.5, 0.5])\n",
    "\n",
    "parameters = {'alpha':[0.00001, 0.00005, 0.0001, 0.0005, 0.001, 0.005, 0.01, 0.05, 0.1, 0.5, 1, 5, 10, 50]}  \n",
    "\n",
    "\"\"\"ignoring alpha values: 1000, 2000, 3000, 4000, 5000 as mean train and test socres for these alpha are 0.5 and for values of 100 and 500 the values were (0.50875706,0.5068243) and (0.49998931,0.49998931)\"\"\"\n",
    "\n",
    "grid_search = GridSearchCV(nb_bow_classifier, parameters, cv= 10, scoring='roc_auc',return_train_score=True)\n",
    "grid_search.fit(bow_train_set,y_train)"
   ]
  },
  {
   "cell_type": "code",
   "execution_count": 17,
   "metadata": {},
   "outputs": [
    {
     "name": "stdout",
     "output_type": "stream",
     "text": [
      "Train Scores: [0.82005828 0.81905145 0.81848027 0.81673619 0.81576511 0.81283987\n",
      " 0.81121335 0.80616962 0.80316061 0.79177454 0.78272937 0.73750857\n",
      " 0.70585066 0.60537611]\n",
      "CV Scores :[0.67868889 0.68214663 0.68379523 0.68797603 0.68989933 0.69445945\n",
      " 0.69638842 0.70046016 0.70193153 0.70344612 0.70171498 0.68052693\n",
      " 0.66158748 0.58919255]\n"
     ]
    }
   ],
   "source": [
    "print(\"Train Scores: \"+ str(grid_search.cv_results_['mean_train_score']))\n",
    "print(\"CV Scores :\" + str(grid_search.cv_results_['mean_test_score']))"
   ]
  },
  {
   "cell_type": "code",
   "execution_count": 18,
   "metadata": {},
   "outputs": [
    {
     "data": {
      "image/png": "[encoded data removed]",
      "text/plain": [
       "<Figure size 1080x360 with 1 Axes>"
      ]
     },
     "metadata": {
      "needs_background": "light"
     },
     "output_type": "display_data"
    }
   ],
   "source": [
    "plt.figure(figsize=(15,5))\n",
    "plt.plot(parameters['alpha'],grid_search.cv_results_['mean_train_score'], label = 'Train AUC')\n",
    "plt.plot(parameters['alpha'], grid_search.cv_results_['mean_test_score'], label='Test AUC')\n",
    "plt.scatter(parameters['alpha'], grid_search.cv_results_['mean_train_score'], label='Train AUC scores')\n",
    "plt.scatter(parameters['alpha'], grid_search.cv_results_['mean_test_score'], label='Test AUC scores')\n",
    "\n",
    "plt.legend()\n",
    "plt.xlabel(\"Hyperparameter :'Alpha' \")\n",
    "plt.ylabel(\"AUC\")\n",
    "\n",
    "plt.xticks(np.arange(0, 50, 5))\n",
    "\n",
    "plt.grid()\n",
    "plt.show()"
   ]
  },
  {
   "cell_type": "code",
   "execution_count": 19,
   "metadata": {},
   "outputs": [
    {
     "name": "stdout",
     "output_type": "stream",
     "text": [
      "BEST ALPHA:  0.5  BEST SCORE:  0.7034461177095419\n"
     ]
    }
   ],
   "source": [
    "# Obtain the optimal value for 'alpha' and using the obtained optimal 'alpha' value, fit a multinomial naive bayes model, on \n",
    "print(\"BEST ALPHA: \",grid_search.best_params_['alpha'],\" BEST SCORE: \",grid_search.best_score_) "
   ]
  },
  {
   "cell_type": "code",
   "execution_count": 20,
   "metadata": {},
   "outputs": [
    {
     "data": {
      "image/png": "[encoded data removed]",
      "text/plain": [
       "<Figure size 432x288 with 1 Axes>"
      ]
     },
     "metadata": {
      "needs_background": "light"
     },
     "output_type": "display_data"
    }
   ],
   "source": [
    "\n",
    "nb_bow = MultinomialNB(alpha=0.5)\n",
    "nb_bow.fit(bow_train_set,y_train)\n",
    "\n",
    "y_train_pred=nb_bow.predict_proba(bow_train_set)[:,1]\n",
    "y_test_pred=nb_bow.predict_proba(bow_test_set)[:,1]\n",
    "\n",
    "train_fpr, train_tpr, tr_thresholds = roc_curve(y_train, y_train_pred)\n",
    "test_fpr, test_tpr, te_thresholds = roc_curve(y_test, y_test_pred)\n",
    "\n",
    "# Plot the ROC-AUC curves using the probability predictions made on train and test data.\n",
    "plt.plot(train_fpr, train_tpr, label=\"Train AUC =\"+str(auc(train_fpr, train_tpr)))\n",
    "plt.plot(test_fpr, test_tpr, label=\"Test AUC =\"+str(auc(test_fpr, test_tpr)))\n",
    "plt.legend()\n",
    "plt.xlabel(\"False Positive Rate(FPR)\")\n",
    "plt.ylabel(\"True Positive Rate(TPR)\")\n",
    "plt.title(\"AUC\")\n",
    "plt.grid(b=True, which='major', color='k', linestyle=':')\n",
    "plt.show()\n"
   ]
  },
  {
   "cell_type": "code",
   "execution_count": 21,
   "metadata": {},
   "outputs": [],
   "source": [
    "r\n",
    "def find_best_threshold(threshould, fpr, tpr):\n",
    "    t = threshould[np.argmax(tpr*(1-fpr))]\n",
    "    # (tpr*(1-fpr)) will be maximum if your fpr is very low and tpr is very high\n",
    "    return np.round(t,3)\n",
    "\n",
    "def predict_with_thres(proba, threshould):\n",
    "    predictions = []\n",
    "    for i in proba:\n",
    "        if i>=threshould:\n",
    "            predictions.append(1)\n",
    "        else:\n",
    "            predictions.append(0)\n",
    "    return predictions\n"
   ]
  },
  {
   "cell_type": "code",
   "execution_count": 22,
   "metadata": {},
   "outputs": [
    {
     "name": "stdout",
     "output_type": "stream",
     "text": [
      "the maximum value of tpr*(1-fpr) is for threshold :  0.872\n"
     ]
    }
   ],
   "source": [
    "best_thres = find_best_threshold(tr_thresholds,train_fpr,train_tpr)\n",
    "print(\"the maximum value of tpr*(1-fpr) is for threshold : \",best_thres)\n"
   ]
  },
  {
   "cell_type": "code",
   "execution_count": 23,
   "metadata": {},
   "outputs": [
    {
     "data": {
      "image/png": "[encoded data removed]",
      "text/plain": [
       "<Figure size 432x288 with 2 Axes>"
      ]
     },
     "metadata": {
      "needs_background": "light"
     },
     "output_type": "display_data"
    },
    {
     "data": {
      "image/png": "[encoded data removed]",
      "text/plain": [
       "<Figure size 432x288 with 2 Axes>"
      ]
     },
     "metadata": {
      "needs_background": "light"
     },
     "output_type": "display_data"
    }
   ],
   "source": [
    "# Plot the confusion matrices(each for train and test data) afer encoding the predicted class labels, on the basis of the best threshod probability estimate.\n",
    "\n",
    "confusion_mat_train = confusion_matrix(y_train,predict_with_thres(y_train_pred,best_thres))\n",
    "sns.heatmap(confusion_mat_train,annot=True,fmt = 'd')\n",
    "plt.title(\"Confusion Matrix for Train dataset\")\n",
    "plt.show()\n",
    "\n",
    "confusion_mat_test = confusion_matrix(y_test,predict_with_thres(y_test_pred,best_thres))\n",
    "sns.heatmap(confusion_mat_test,annot=True,fmt = 'd')\n",
    "plt.title(\"Confusion Matrix for Test dataset\")\n",
    "plt.show()\n"
   ]
  },
  {
   "cell_type": "markdown",
   "metadata": {},
   "source": [
    "#### Set 2"
   ]
  },
  {
   "cell_type": "code",
   "execution_count": 24,
   "metadata": {},
   "outputs": [],
   "source": [
    "# dataset with TF-IDF vecotisation\n",
    "\n",
    "tfidf_train_set  = hstack((school_state_train_ohe, teacher_prefix_train_ohe, project_grade_category_train_ohe, clean_categories_train_ohe, clean_subcategories_train_ohe, teacher_number_of_previously_posted_projects_train_nv, price_train_nv, tfidf_train_essay)).tocsr()\n",
    "\n",
    "tfidf_test_set = hstack((school_state_test_ohe, teacher_prefix_test_ohe, project_grade_category_test_ohe, clean_categories_test_ohe, clean_subcategories_test_ohe, teacher_number_of_previously_posted_projects_test_nv, price_test_nv, tfidf_test_essay)).tocsr()"
   ]
  },
  {
   "cell_type": "code",
   "execution_count": 25,
   "metadata": {},
   "outputs": [
    {
     "name": "stdout",
     "output_type": "stream",
     "text": [
      "(55250, 43521)\n",
      "(29750, 43521)\n"
     ]
    }
   ],
   "source": [
    "print(tfidf_train_set.shape)\n",
    "print(tfidf_test_set.shape)"
   ]
  },
  {
   "cell_type": "code",
   "execution_count": 26,
   "metadata": {},
   "outputs": [
    {
     "data": {
      "text/plain": [
       "GridSearchCV(cv=10, estimator=MultinomialNB(class_prior=[0.5, 0.5]),\n",
       "             param_grid={'alpha': [1e-05, 5e-05, 0.0001, 0.0005, 0.001, 0.005,\n",
       "                                   0.01, 0.05, 0.1, 0.5, 1, 5, 10, 50]},\n",
       "             return_train_score=True, scoring='roc_auc')"
      ]
     },
     "execution_count": 26,
     "metadata": {},
     "output_type": "execute_result"
    }
   ],
   "source": [
    "# Perform Hyperparameter Tuning.\n",
    "# Plotting the training and the CV AUC scores, for different values of 'alpha', using a 2D line plot\n",
    "\n",
    "\n",
    "nb_tfidf_classifier = MultinomialNB(class_prior=[0.5, 0.5])\n",
    "\n",
    "parameters = {'alpha':[0.00001, 0.00005, 0.0001, 0.0005, 0.001, 0.005, 0.01, 0.05, 0.1, 0.5, 1, 5, 10, 50]}  \n",
    "\n",
    "\"\"\"ignoring alpha values: 100, 500, 1000, 2000, 3000, 4000, 5000 as mean train and test socres for these alpha are neglegibly impacted\"\"\"\n",
    "\n",
    "grid_search = GridSearchCV(nb_tfidf_classifier, parameters, cv= 10, scoring='roc_auc',return_train_score=True)\n",
    "grid_search.fit(tfidf_train_set,y_train)"
   ]
  },
  {
   "cell_type": "code",
   "execution_count": 27,
   "metadata": {},
   "outputs": [
    {
     "name": "stdout",
     "output_type": "stream",
     "text": [
      "Train Scores: [0.92198348 0.91951108 0.91792788 0.91229453 0.90860131 0.89468173\n",
      " 0.88482371 0.84366774 0.81444254 0.72641414 0.68761944 0.61445485\n",
      " 0.59344602 0.56465224]\n",
      "CV Scores :[0.60851045 0.61651544 0.6205452  0.63134069 0.63656364 0.64912731\n",
      " 0.65387048 0.65789786 0.65486204 0.63516967 0.62207373 0.58871055\n",
      " 0.57681698 0.55813441]\n"
     ]
    }
   ],
   "source": [
    "print(\"Train Scores: \"+ str(grid_search.cv_results_['mean_train_score']))\n",
    "print(\"CV Scores :\" + str(grid_search.cv_results_['mean_test_score']))"
   ]
  },
  {
   "cell_type": "code",
   "execution_count": 28,
   "metadata": {},
   "outputs": [
    {
     "data": {
      "image/png": "[encoded data removed]",
      "text/plain": [
       "<Figure size 1080x360 with 1 Axes>"
      ]
     },
     "metadata": {
      "needs_background": "light"
     },
     "output_type": "display_data"
    }
   ],
   "source": [
    "# Obtain the optimal value for 'alpha' and using the obtained optimal 'alpha' value, fit a multinomial naive bayes model, on the train data,\n",
    "# Note: If you have split the datase into 3 parts (ie., train, cv and test sets) in the beginning, then the training datafor this final model would be (train set + cv set)\n",
    "# Make class label and probability predictions on the train and test data.\n",
    "plt.figure(figsize=(15,5))\n",
    "plt.plot(parameters['alpha'],grid_search.cv_results_['mean_train_score'], label = 'Train AUC')\n",
    "plt.plot(parameters['alpha'], grid_search.cv_results_['mean_test_score'], label='Test AUC')\n",
    "plt.scatter(parameters['alpha'], grid_search.cv_results_['mean_train_score'], label='Train AUC scores')\n",
    "plt.scatter(parameters['alpha'], grid_search.cv_results_['mean_test_score'], label='Test AUC scores')\n",
    "\n",
    "plt.legend()\n",
    "plt.xlabel(\"Hyperparameter :'Alpha' \")\n",
    "plt.ylabel(\"AUC\")\n",
    "\n",
    "plt.xticks(np.arange(0, 50, 5))\n",
    "\n",
    "plt.grid()\n",
    "plt.show()"
   ]
  },
  {
   "cell_type": "code",
   "execution_count": 29,
   "metadata": {},
   "outputs": [
    {
     "name": "stdout",
     "output_type": "stream",
     "text": [
      "BEST ALPHA:  0.05  BEST SCORE:  0.6578978601051033\n"
     ]
    }
   ],
   "source": [
    "print(\"BEST ALPHA: \",grid_search.best_params_['alpha'],\" BEST SCORE: \",grid_search.best_score_)"
   ]
  },
  {
   "cell_type": "code",
   "execution_count": 30,
   "metadata": {},
   "outputs": [
    {
     "data": {
      "image/png": "[encoded data removed]",
      "text/plain": [
       "<Figure size 432x288 with 1 Axes>"
      ]
     },
     "metadata": {
      "needs_background": "light"
     },
     "output_type": "display_data"
    }
   ],
   "source": [
    "# Plot the ROC-AUC curves using the probability predictions made on train and test data.\n",
    "\n",
    "nb_tfidf = MultinomialNB(alpha=0.05)\n",
    "nb_tfidf.fit(tfidf_train_set,y_train)\n",
    "\n",
    "y_train_pred=nb_tfidf.predict_proba(tfidf_train_set)[:,1]\n",
    "y_test_pred=nb_tfidf.predict_proba(tfidf_test_set)[:,1]\n",
    "\n",
    "train_fpr, train_tpr, tr_thresholds = roc_curve(y_train, y_train_pred)\n",
    "test_fpr, test_tpr, te_thresholds = roc_curve(y_test, y_test_pred)\n",
    "\n",
    "# Plot the ROC-AUC curves using the probability predictions made on train and test data.\n",
    "plt.plot(train_fpr, train_tpr, label=\"Train AUC =\"+str(auc(train_fpr, train_tpr)))\n",
    "plt.plot(test_fpr, test_tpr, label=\"Test AUC =\"+str(auc(test_fpr, test_tpr)))\n",
    "plt.legend()\n",
    "plt.xlabel(\"False Positive Rate(FPR)\")\n",
    "plt.ylabel(\"True Positive Rate(TPR)\")\n",
    "plt.title(\"AUC\")\n",
    "plt.grid(b=True, which='major', color='k', linestyle=':')\n",
    "plt.show()\n"
   ]
  },
  {
   "cell_type": "code",
   "execution_count": 31,
   "metadata": {},
   "outputs": [
    {
     "name": "stdout",
     "output_type": "stream",
     "text": [
      "the maximum value of tpr*(1-fpr) is for threshold :  0.855\n"
     ]
    }
   ],
   "source": [
    "# Pick the best threshold among the probability estimates, such that it has to yield maximum value for TPR*(1-FPR)\n",
    "best_thres = find_best_threshold(tr_thresholds,train_fpr,train_tpr)\n",
    "print(\"the maximum value of tpr*(1-fpr) is for threshold : \",best_thres)\n"
   ]
  },
  {
   "cell_type": "code",
   "execution_count": 32,
   "metadata": {
    "tags": []
   },
   "outputs": [
    {
     "data": {
      "image/png": "[encoded data removed]",
      "text/plain": [
       "<Figure size 432x288 with 2 Axes>"
      ]
     },
     "metadata": {
      "needs_background": "light"
     },
     "output_type": "display_data"
    },
    {
     "data": {
      "image/png": "[encoded data removed]",
      "text/plain": [
       "<Figure size 432x288 with 2 Axes>"
      ]
     },
     "metadata": {
      "needs_background": "light"
     },
     "output_type": "display_data"
    }
   ],
   "source": [
    "# Plot the confusion matrices(each for train and test data) afer encoding the predicted class labels, on the basis of the best threshod probability estimate.\n",
    "\n",
    "confusion_mat_train = confusion_matrix(y_train,predict_with_thres(y_train_pred,best_thres))\n",
    "sns.heatmap(confusion_mat_train,annot=True,fmt = 'd')\n",
    "plt.title(\"Confusion Matrix for Train dataset\")\n",
    "plt.show()\n",
    "\n",
    "confusion_mat_test = confusion_matrix(y_test,predict_with_thres(y_test_pred,best_thres))\n",
    "sns.heatmap(confusion_mat_test,annot=True,fmt = 'd')\n",
    "plt.title(\"Confusion Matrix for Test dataset\")\n",
    "plt.show()\n"
   ]
  },
  {
   "cell_type": "code",
   "execution_count": 33,
   "metadata": {},
   "outputs": [
    {
     "name": "stdout",
     "output_type": "stream",
     "text": [
      "Top 20 features of positive class\n",
      "\n",
      "['01075rm' '1000s' '1017' '21t' '21sr' '1070' '10am' '11' 'suprisenannan'\n",
      " '120' '005nannan' '121' '1099' '11pm' '109' '108' '10cm' '1077' '28th'\n",
      " '29']\n",
      "=-==-==-==-==-==-==-==-==-==-==-==-==-==-==-==-==-==-==-==-==-==-==-==-==-==-==-==-==-==-=\n",
      "Top 20 features of negative class\n",
      "\n",
      "['239' '01075rm' '21sr' '21t' '1017' '1070' '10am' '11' '120'\n",
      " 'suprisenannan' '005nannan' '1099' '121' '11pm' '109' '108' '10cm' '1077'\n",
      " '28th' '29']\n"
     ]
    }
   ],
   "source": [
    "# Either from set 1 (or) set 2, print the names of the top 20 features associated with the positive and negative classes each. \n",
    "# (You have to print the names of the features, but not the indexes)\n",
    "\n",
    "sorted_prob_pos = nb_tfidf.feature_log_prob_[1].argsort()\n",
    "sorted_prob_neg = nb_tfidf.feature_log_prob_[0].argsort()\n",
    "\n",
    "\n",
    "print('Top 20 features of positive class\\n')\n",
    "print(np.take(features_of_tfidf, sorted_prob_pos[-20:]))\n",
    "print('=-='*30)\n",
    "print('Top 20 features of negative class\\n')\n",
    "print(np.take(features_of_tfidf, sorted_prob_neg[-20:]))\n"
   ]
  },
  {
   "cell_type": "markdown",
   "metadata": {
    "id": "lS9hIHdib3dp",
    "tags": []
   },
   "source": [
    "<h1>3. Summary</h1>\n",
    "\n",
    "<br> 1. Taking very high values of alpha decreses the ACU scores for the model and be affects negligibly if alpha is increased further.\n",
    "<br> 2. We have achieved High train scores for TF-IDF vecorised data set (AUC score = 0.8375),<br> but using BOW vectorisation we could see a better performing model for the Test data/prediction(AUC score= 0.7010)"
   ]
  },
  {
   "cell_type": "code",
   "execution_count": 36,
   "metadata": {},
   "outputs": [
    {
     "name": "stdout",
     "output_type": "stream",
     "text": [
      "+------------+----------------+-------+-----------+----------+\n",
      "| Vectorizer |     Model      | Alpha | Train AUC | Test AUC |\n",
      "+------------+----------------+-------+-----------+----------+\n",
      "|    BoW     | Multinomial NB |  0.5  |   0.7854  |  0.701   |\n",
      "|   TFIDF    | Multinomial NB | 0.005 |   0.8375  |  0.6615  |\n",
      "+------------+----------------+-------+-----------+----------+\n"
     ]
    }
   ],
   "source": [
    "from prettytable import PrettyTable\n",
    "\n",
    "table = PrettyTable()\n",
    "table.field_names = [\"Vectorizer\", \"Model\", \"Alpha\", \"Train AUC\", \"Test AUC\"]\n",
    "table.add_row([\"BoW\", \"Multinomial NB\", 0.5, 0.7854,0.7010])\n",
    "table.add_row([\"TFIDF\", \"Multinomial NB\", 0.005, 0.8375,0.6615])\n",
    "\n",
    "print(table)"
   ]
  },
  {
   "cell_type": "code",
   "execution_count": null,
   "metadata": {},
   "outputs": [],
   "source": []
  }
 ],
 "metadata": {
  "colab": {
   "collapsed_sections": [],
   "name": "6_Assignment_NB_Instructions.ipynb",
   "provenance": []
  },
  "kernelspec": {
   "display_name": "Python 3",
   "language": "python",
   "name": "python3"
  },
  "language_info": {
   "codemirror_mode": {
    "name": "ipython",
    "version": 3
   },
   "file_extension": ".py",
   "mimetype": "text/x-python",
   "name": "python",
   "nbconvert_exporter": "python",
   "pygments_lexer": "ipython3",
   "version": "3.8.8"
  }
 },
 "nbformat": 4,
 "nbformat_minor": 4
}
